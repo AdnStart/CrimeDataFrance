{
 "cells": [
  {
   "cell_type": "code",
   "execution_count": 1,
   "id": "6b266619",
   "metadata": {},
   "outputs": [],
   "source": [
    "import numpy as np\n",
    "import pandas as pd"
   ]
  },
  {
   "cell_type": "code",
   "execution_count": 2,
   "id": "83eddee4",
   "metadata": {
    "scrolled": true
   },
   "outputs": [
    {
     "name": "stderr",
     "output_type": "stream",
     "text": [
      "/var/folders/_1/d3qbyl_13d33ktll4k6hgr5r0000gn/T/ipykernel_38141/531963643.py:1: DtypeWarning: Columns (0,7,8) have mixed types. Specify dtype option on import or set low_memory=False.\n",
      "  df_stats = pd.read_csv('donnee-data.gouv-2022-geographie2023-produit-le2023-07-17_stats.csv', sep=';')\n"
     ]
    }
   ],
   "source": [
    "df_stats = pd.read_csv('donnee-data.gouv-2022-geographie2023-produit-le2023-07-17_stats.csv', sep=';')"
   ]
  },
  {
   "cell_type": "code",
   "execution_count": 3,
   "id": "65a68075",
   "metadata": {},
   "outputs": [],
   "source": [
    "df_county_codes = pd.read_csv('v_commune_2023.csv')"
   ]
  },
  {
   "cell_type": "code",
   "execution_count": 4,
   "id": "be6a7b41",
   "metadata": {
    "scrolled": true
   },
   "outputs": [],
   "source": [
    "df_county_codes = (df_county_codes\n",
    " .iloc[:,[1,3,9]]\n",
    " .set_index('COM')\n",
    ")"
   ]
  },
  {
   "cell_type": "code",
   "execution_count": 5,
   "id": "ca95a3c8",
   "metadata": {},
   "outputs": [],
   "source": [
    "df_stats = df_stats.set_index('CODGEO_2023')"
   ]
  },
  {
   "cell_type": "code",
   "execution_count": 6,
   "id": "e8848b38",
   "metadata": {},
   "outputs": [],
   "source": [
    "df_joined_all = df_stats.join(df_county_codes)"
   ]
  },
  {
   "cell_type": "code",
   "execution_count": 7,
   "id": "ff21305e",
   "metadata": {},
   "outputs": [
    {
     "data": {
      "text/html": [
       "<div>\n",
       "<style scoped>\n",
       "    .dataframe tbody tr th:only-of-type {\n",
       "        vertical-align: middle;\n",
       "    }\n",
       "\n",
       "    .dataframe tbody tr th {\n",
       "        vertical-align: top;\n",
       "    }\n",
       "\n",
       "    .dataframe thead th {\n",
       "        text-align: right;\n",
       "    }\n",
       "</style>\n",
       "<table border=\"1\" class=\"dataframe\">\n",
       "  <thead>\n",
       "    <tr style=\"text-align: right;\">\n",
       "      <th></th>\n",
       "      <th>classe</th>\n",
       "      <th>unité.de.compte</th>\n",
       "      <th>LIBELLE</th>\n",
       "    </tr>\n",
       "  </thead>\n",
       "  <tbody>\n",
       "    <tr>\n",
       "      <th>1001</th>\n",
       "      <td>Cambriolages de logement</td>\n",
       "      <td>infraction</td>\n",
       "      <td>NaN</td>\n",
       "    </tr>\n",
       "    <tr>\n",
       "      <th>1001</th>\n",
       "      <td>Cambriolages de logement</td>\n",
       "      <td>infraction</td>\n",
       "      <td>NaN</td>\n",
       "    </tr>\n",
       "  </tbody>\n",
       "</table>\n",
       "</div>"
      ],
      "text/plain": [
       "                        classe unité.de.compte LIBELLE\n",
       "1001  Cambriolages de logement      infraction     NaN\n",
       "1001  Cambriolages de logement      infraction     NaN"
      ]
     },
     "execution_count": 7,
     "metadata": {},
     "output_type": "execute_result"
    }
   ],
   "source": [
    "df_joined_all[['classe','unité.de.compte','LIBELLE']].head(2)"
   ]
  },
  {
   "cell_type": "code",
   "execution_count": 8,
   "id": "a6371370",
   "metadata": {},
   "outputs": [],
   "source": [
    "df_joined_20 = df_stats[:20].join(df_county_codes)"
   ]
  },
  {
   "cell_type": "code",
   "execution_count": 9,
   "id": "f6f831f4",
   "metadata": {},
   "outputs": [
    {
     "data": {
      "text/html": [
       "<div>\n",
       "<style scoped>\n",
       "    .dataframe tbody tr th:only-of-type {\n",
       "        vertical-align: middle;\n",
       "    }\n",
       "\n",
       "    .dataframe tbody tr th {\n",
       "        vertical-align: top;\n",
       "    }\n",
       "\n",
       "    .dataframe thead th {\n",
       "        text-align: right;\n",
       "    }\n",
       "</style>\n",
       "<table border=\"1\" class=\"dataframe\">\n",
       "  <thead>\n",
       "    <tr style=\"text-align: right;\">\n",
       "      <th></th>\n",
       "      <th>classe</th>\n",
       "      <th>unité.de.compte</th>\n",
       "      <th>LIBELLE</th>\n",
       "    </tr>\n",
       "  </thead>\n",
       "  <tbody>\n",
       "    <tr>\n",
       "      <th>01001</th>\n",
       "      <td>Autres coups et blessures volontaires</td>\n",
       "      <td>victime</td>\n",
       "      <td>L'Abergement-Clémenciat</td>\n",
       "    </tr>\n",
       "    <tr>\n",
       "      <th>01001</th>\n",
       "      <td>Autres coups et blessures volontaires</td>\n",
       "      <td>victime</td>\n",
       "      <td>L'Abergement-Clémenciat</td>\n",
       "    </tr>\n",
       "  </tbody>\n",
       "</table>\n",
       "</div>"
      ],
      "text/plain": [
       "                                      classe unité.de.compte  \\\n",
       "01001  Autres coups et blessures volontaires         victime   \n",
       "01001  Autres coups et blessures volontaires         victime   \n",
       "\n",
       "                       LIBELLE  \n",
       "01001  L'Abergement-Clémenciat  \n",
       "01001  L'Abergement-Clémenciat  "
      ]
     },
     "execution_count": 9,
     "metadata": {},
     "output_type": "execute_result"
    }
   ],
   "source": [
    "df_joined_20[['classe','unité.de.compte','LIBELLE']].head(2)"
   ]
  }
 ],
 "metadata": {
  "kernelspec": {
   "display_name": "Python 3 (ipykernel)",
   "language": "python",
   "name": "python3"
  },
  "language_info": {
   "codemirror_mode": {
    "name": "ipython",
    "version": 3
   },
   "file_extension": ".py",
   "mimetype": "text/x-python",
   "name": "python",
   "nbconvert_exporter": "python",
   "pygments_lexer": "ipython3",
   "version": "3.10.4"
  }
 },
 "nbformat": 4,
 "nbformat_minor": 5
}
